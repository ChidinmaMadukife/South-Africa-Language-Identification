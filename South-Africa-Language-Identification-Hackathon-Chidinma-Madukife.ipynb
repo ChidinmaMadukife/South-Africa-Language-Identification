{
 "cells": [
  {
   "cell_type": "markdown",
   "id": "1faf6ff6",
   "metadata": {},
   "source": [
    "# CLASSIFICATION PRACTICAL EXAM"
   ]
  },
  {
   "cell_type": "markdown",
   "id": "fe5bc8ae",
   "metadata": {},
   "source": [
    "# South Africa Language Identification Hack23\n",
    "\n",
    "## 1.0 Introduction\n",
    "\n",
    "Language identification can be an interesting and challenging problem, especially in multilingual regions like South Africa where multiple languages are spoken. \n",
    "\n",
    "This project aims to develop a language identification model for classifying text into one of South Africa's 11 official languages. The project utilizes natural language processing techniques to identify the language of a given piece of text. By accurately identifying the language, this model can contribute to various applications, such as multilingual communication systems and language-based analysis.\n",
    "\n",
    "Overall, this language identification project contributes to the broader goal of promoting language diversity, understanding, and effective communication in South Africa's multicultural society. By accurately identifying languages, we can pave the way for more inclusive and culturally aware digital environments.\n",
    "___"
   ]
  },
  {
   "cell_type": "markdown",
   "id": "a3dab791",
   "metadata": {},
   "source": [
    "## 1.1 Importing the Necessary Libraries\n",
    "\n",
    "To begin, we need to import the required libraries and packages for data manipulation, preprocessing, modeling, and evaluation. These libraries include popular NLP libraries sklearn, as well as other utility libraries.\n"
   ]
  },
  {
   "cell_type": "code",
   "execution_count": 46,
   "id": "0f790614",
   "metadata": {},
   "outputs": [],
   "source": [
    "#Import the libraries \n",
    "import numpy as np                                              #For statistics, array creation and manipulation\n",
    "import pandas as pd                                             #For data loading and data manipulation\n",
    "import seaborn as sns                                           #For data visualization\n",
    "from wordcloud import WordCloud                                 #For visualizing the summarized textual data\n",
    "import matplotlib.pyplot as plt                                 #For data visualization - %matplotlib below is a magic command to render matplotlib in jupyter\n",
    "%matplotlib inline \n",
    "import re                                                       #For data cleaning to remove/replace unwanted patterns\n",
    "import string                                                   #For data cleaning to remove/replace unwanted patterns\n",
    "from sklearn.feature_extraction.text import TfidfVectorizer       #For mapping/converting words into real numbers\n",
    "from sklearn.feature_extraction.text import CountVectorizer       #For mapping/converting words into real numbers\n",
    "from sklearn.preprocessing import LabelEncoder                    #For converting words into real numbers\n",
    "from sklearn.model_selection import train_test_split              #For splitting the dataset into train and test\n",
    "from sklearn.preprocessing import MaxAbsScaler                    #For scaling our data\n",
    "from sklearn.metrics import classification_report, accuracy_score #For evaluating model preformance\n",
    "from sklearn.model_selection import GridSearchCV                  #For hyperparameter tuning\n",
    "from sklearn.linear_model import LogisticRegression               #For building a logistic regression model\n",
    "from sklearn.ensemble import RandomForestClassifier               #For building a random forest model\n",
    "from sklearn.svm import SVC                                       #For building a support vector classifier model\n",
    "from sklearn.naive_bayes import MultinomialNB                     #For building a Naive Bayes multinomial model\n",
    "\n",
    "\n",
    "from nltk.corpus import stopwords                                 #For stopwords processing\n",
    "from nltk.tokenize import word_tokenize, TreebankWordTokenizer    #For splitting sentences into words\n"
   ]
  },
  {
   "cell_type": "markdown",
   "id": "6fb6343b",
   "metadata": {},
   "source": [
    "## 1.2 Loaing the Data\n",
    "\n",
    "We will start by loading the training and test datasets into pandas DataFrames for further analysis and modeling. The training dataset contains labeled text samples for language identification, while the test dataset will be used for final evaluation."
   ]
  },
  {
   "cell_type": "code",
   "execution_count": 2,
   "id": "8859e6a5",
   "metadata": {},
   "outputs": [],
   "source": [
    "#Load the data\n",
    "df_train = pd.read_csv(\"train_set.csv\")\n",
    "df_test = pd.read_csv(\"test_set.csv\")"
   ]
  },
  {
   "cell_type": "code",
   "execution_count": 3,
   "id": "67628580",
   "metadata": {},
   "outputs": [
    {
     "data": {
      "text/html": [
       "<div>\n",
       "<style scoped>\n",
       "    .dataframe tbody tr th:only-of-type {\n",
       "        vertical-align: middle;\n",
       "    }\n",
       "\n",
       "    .dataframe tbody tr th {\n",
       "        vertical-align: top;\n",
       "    }\n",
       "\n",
       "    .dataframe thead th {\n",
       "        text-align: right;\n",
       "    }\n",
       "</style>\n",
       "<table border=\"1\" class=\"dataframe\">\n",
       "  <thead>\n",
       "    <tr style=\"text-align: right;\">\n",
       "      <th></th>\n",
       "      <th>lang_id</th>\n",
       "      <th>text</th>\n",
       "    </tr>\n",
       "  </thead>\n",
       "  <tbody>\n",
       "    <tr>\n",
       "      <th>0</th>\n",
       "      <td>xho</td>\n",
       "      <td>umgaqo-siseko wenza amalungiselelo kumaziko ax...</td>\n",
       "    </tr>\n",
       "    <tr>\n",
       "      <th>1</th>\n",
       "      <td>xho</td>\n",
       "      <td>i-dha iya kuba nobulumko bokubeka umsebenzi na...</td>\n",
       "    </tr>\n",
       "    <tr>\n",
       "      <th>2</th>\n",
       "      <td>eng</td>\n",
       "      <td>the province of kwazulu-natal department of tr...</td>\n",
       "    </tr>\n",
       "    <tr>\n",
       "      <th>3</th>\n",
       "      <td>nso</td>\n",
       "      <td>o netefatša gore o ba file dilo ka moka tše le...</td>\n",
       "    </tr>\n",
       "    <tr>\n",
       "      <th>4</th>\n",
       "      <td>ven</td>\n",
       "      <td>khomishini ya ndinganyiso ya mbeu yo ewa maana...</td>\n",
       "    </tr>\n",
       "  </tbody>\n",
       "</table>\n",
       "</div>"
      ],
      "text/plain": [
       "  lang_id                                               text\n",
       "0     xho  umgaqo-siseko wenza amalungiselelo kumaziko ax...\n",
       "1     xho  i-dha iya kuba nobulumko bokubeka umsebenzi na...\n",
       "2     eng  the province of kwazulu-natal department of tr...\n",
       "3     nso  o netefatša gore o ba file dilo ka moka tše le...\n",
       "4     ven  khomishini ya ndinganyiso ya mbeu yo ewa maana..."
      ]
     },
     "execution_count": 3,
     "metadata": {},
     "output_type": "execute_result"
    }
   ],
   "source": [
    "df_train.head()"
   ]
  },
  {
   "cell_type": "code",
   "execution_count": 4,
   "id": "57c3fd7b",
   "metadata": {},
   "outputs": [
    {
     "data": {
      "text/html": [
       "<div>\n",
       "<style scoped>\n",
       "    .dataframe tbody tr th:only-of-type {\n",
       "        vertical-align: middle;\n",
       "    }\n",
       "\n",
       "    .dataframe tbody tr th {\n",
       "        vertical-align: top;\n",
       "    }\n",
       "\n",
       "    .dataframe thead th {\n",
       "        text-align: right;\n",
       "    }\n",
       "</style>\n",
       "<table border=\"1\" class=\"dataframe\">\n",
       "  <thead>\n",
       "    <tr style=\"text-align: right;\">\n",
       "      <th></th>\n",
       "      <th>index</th>\n",
       "      <th>text</th>\n",
       "    </tr>\n",
       "  </thead>\n",
       "  <tbody>\n",
       "    <tr>\n",
       "      <th>0</th>\n",
       "      <td>1</td>\n",
       "      <td>Mmasepala, fa maemo a a kgethegileng a letlele...</td>\n",
       "    </tr>\n",
       "    <tr>\n",
       "      <th>1</th>\n",
       "      <td>2</td>\n",
       "      <td>Uzakwaziswa ngokufaneleko nakungafuneka eminye...</td>\n",
       "    </tr>\n",
       "    <tr>\n",
       "      <th>2</th>\n",
       "      <td>3</td>\n",
       "      <td>Tshivhumbeo tshi fana na ngano dza vhathu.</td>\n",
       "    </tr>\n",
       "    <tr>\n",
       "      <th>3</th>\n",
       "      <td>4</td>\n",
       "      <td>Kube inja nelikati betingevakala kutsi titsini...</td>\n",
       "    </tr>\n",
       "    <tr>\n",
       "      <th>4</th>\n",
       "      <td>5</td>\n",
       "      <td>Winste op buitelandse valuta.</td>\n",
       "    </tr>\n",
       "  </tbody>\n",
       "</table>\n",
       "</div>"
      ],
      "text/plain": [
       "   index                                               text\n",
       "0      1  Mmasepala, fa maemo a a kgethegileng a letlele...\n",
       "1      2  Uzakwaziswa ngokufaneleko nakungafuneka eminye...\n",
       "2      3         Tshivhumbeo tshi fana na ngano dza vhathu.\n",
       "3      4  Kube inja nelikati betingevakala kutsi titsini...\n",
       "4      5                      Winste op buitelandse valuta."
      ]
     },
     "execution_count": 4,
     "metadata": {},
     "output_type": "execute_result"
    }
   ],
   "source": [
    "df_test.head()"
   ]
  },
  {
   "cell_type": "markdown",
   "id": "3b292538",
   "metadata": {},
   "source": [
    "#### The train data contains 2 columns - lang_id and text with the lang_id being the response variable.\n",
    "#### The test data contains 2 columns as well - Index and text. The lang_id is to be predicted.\n",
    "___"
   ]
  },
  {
   "cell_type": "markdown",
   "id": "228e7835",
   "metadata": {},
   "source": [
    "# 2.0 Exploratory Data Analysis\n",
    "\n",
    "Before building our language identification model, it is essential to explore and understand the dataset. This includes analyzing the distribution of languages, identifying any data quality issues, and gaining insights into the text samples."
   ]
  },
  {
   "cell_type": "code",
   "execution_count": 5,
   "id": "47ecec11",
   "metadata": {},
   "outputs": [
    {
     "data": {
      "text/plain": [
       "Index(['lang_id', 'text'], dtype='object')"
      ]
     },
     "execution_count": 5,
     "metadata": {},
     "output_type": "execute_result"
    }
   ],
   "source": [
    "# Columns of the train data\n",
    "df_train.columns"
   ]
  },
  {
   "cell_type": "code",
   "execution_count": 6,
   "id": "4864a9f1",
   "metadata": {},
   "outputs": [
    {
     "data": {
      "text/plain": [
       "Index(['index', 'text'], dtype='object')"
      ]
     },
     "execution_count": 6,
     "metadata": {},
     "output_type": "execute_result"
    }
   ],
   "source": [
    "# Columns of the test data\n",
    "df_test.columns"
   ]
  },
  {
   "cell_type": "code",
   "execution_count": 7,
   "id": "458114ff",
   "metadata": {},
   "outputs": [
    {
     "data": {
      "text/plain": [
       "(33000, 2)"
      ]
     },
     "execution_count": 7,
     "metadata": {},
     "output_type": "execute_result"
    }
   ],
   "source": [
    "# Shape of the train data\n",
    "df_train.shape"
   ]
  },
  {
   "cell_type": "code",
   "execution_count": 8,
   "id": "d55d17be",
   "metadata": {},
   "outputs": [
    {
     "data": {
      "text/plain": [
       "(5682, 2)"
      ]
     },
     "execution_count": 8,
     "metadata": {},
     "output_type": "execute_result"
    }
   ],
   "source": [
    "# Shape of the test data\n",
    "df_test.shape"
   ]
  },
  {
   "cell_type": "code",
   "execution_count": 16,
   "id": "e47f2afa",
   "metadata": {},
   "outputs": [
    {
     "data": {
      "text/plain": [
       "lang_id    0\n",
       "text       0\n",
       "dtype: int64"
      ]
     },
     "execution_count": 16,
     "metadata": {},
     "output_type": "execute_result"
    }
   ],
   "source": [
    "# Lets check for null values \n",
    "\n",
    "df_train.isna().sum()"
   ]
  },
  {
   "cell_type": "code",
   "execution_count": 9,
   "id": "b8eba0b9",
   "metadata": {},
   "outputs": [
    {
     "data": {
      "text/plain": [
       "11"
      ]
     },
     "execution_count": 9,
     "metadata": {},
     "output_type": "execute_result"
    }
   ],
   "source": [
    "# Count the number of unique languages \n",
    "df_train['lang_id'].nunique()"
   ]
  },
  {
   "cell_type": "code",
   "execution_count": 10,
   "id": "409d9ab0",
   "metadata": {},
   "outputs": [
    {
     "data": {
      "text/plain": [
       "lang_id\n",
       "xho    3000\n",
       "eng    3000\n",
       "nso    3000\n",
       "ven    3000\n",
       "tsn    3000\n",
       "nbl    3000\n",
       "zul    3000\n",
       "ssw    3000\n",
       "tso    3000\n",
       "sot    3000\n",
       "afr    3000\n",
       "Name: count, dtype: int64"
      ]
     },
     "execution_count": 10,
     "metadata": {},
     "output_type": "execute_result"
    }
   ],
   "source": [
    "# Count the occurrences of each language using the language ID\n",
    "df_train['lang_id'].value_counts()"
   ]
  },
  {
   "cell_type": "code",
   "execution_count": 11,
   "id": "1fdfd2bb",
   "metadata": {},
   "outputs": [
    {
     "data": {
      "text/plain": [
       "['xho', 'eng', 'nso', 'ven', 'tsn', 'nbl', 'zul', 'ssw', 'tso', 'sot', 'afr']"
      ]
     },
     "execution_count": 11,
     "metadata": {},
     "output_type": "execute_result"
    }
   ],
   "source": [
    "# Display the unique columns\n",
    "\n",
    "unique_ids = [ids for ids in df_train['lang_id'].unique()] #loops through the lang_id colun and returns only unique ids\n",
    "unique_ids"
   ]
  },
  {
   "cell_type": "code",
   "execution_count": 12,
   "id": "5c9d6411",
   "metadata": {},
   "outputs": [
    {
     "data": {
      "image/png": "[encoded data removed]",
      "text/plain": [
       "<Figure size 800x500 with 1 Axes>"
      ]
     },
     "metadata": {},
     "output_type": "display_data"
    }
   ],
   "source": [
    "# Display the language distribution using matplotlib\n",
    "\n",
    "# Count the occurrences of each language ID\n",
    "lang_counts = df_train['lang_id'].value_counts()\n",
    "\n",
    "# Plot the distribution\n",
    "plt.figure(figsize=(8, 5))\n",
    "lang_counts.plot(kind='bar', color = sns.color_palette())\n",
    "\n",
    "# Define the custom labels and figure size\n",
    "lang_labels = {lang_id: lang_id for lang_id in unique_ids}\n",
    "\n",
    "# Customize xticks and rotation of x-axis labels to improve readability\n",
    "plt.xticks(range(len(lang_counts.index)),lang_counts.rename(index=lang_labels).index, rotation=45)\n",
    "\n",
    "plt.title('Language Distribution')\n",
    "plt.xlabel('Language ID')\n",
    "plt.ylabel('Count')\n",
    "plt.show()"
   ]
  },
  {
   "cell_type": "markdown",
   "id": "4696731c",
   "metadata": {},
   "source": [
    "We have a dataset with 33,000 rows and 2 columns (language ID and text). The dataset appears to be  well-balanced, with an equal distribution of 3,000 samples for each of the 11 language IDs. \n",
    "\n",
    "The next step is to carry out the following preprocessing activities\n",
    "- Data cleaning - remove punctuations, remove special characters\n",
    "- Normalize the data by converting the text data to lower case\n",
    "- Tokenizing the data.\n",
    "\n",
    "We will not carry out stopwords removal just yet, as it is still unsure how this will affect the model. We will experiment with both stopwords and without to see how it affects the model. Experiment shows that with stop words the model performs better."
   ]
  },
  {
   "cell_type": "code",
   "execution_count": 13,
   "id": "9aab2152",
   "metadata": {},
   "outputs": [
    {
     "data": {
      "text/plain": [
       "3052"
      ]
     },
     "execution_count": 13,
     "metadata": {},
     "output_type": "execute_result"
    }
   ],
   "source": [
    "#Check for duplicates in the data\n",
    "\n",
    "df_train.duplicated().sum()"
   ]
  },
  {
   "cell_type": "markdown",
   "id": "cf29fbc9",
   "metadata": {},
   "source": [
    "#### The data contains 3,052 duplicates this could be the reason the data was uniformly distributed across the various language ids. In the cell below we remove the duplicates. "
   ]
  },
  {
   "cell_type": "code",
   "execution_count": 22,
   "id": "247bf77b",
   "metadata": {},
   "outputs": [
    {
     "data": {
      "text/plain": [
       "0"
      ]
     },
     "execution_count": 22,
     "metadata": {},
     "output_type": "execute_result"
    }
   ],
   "source": [
    "# Remove duplicates but keep the first occurence of the text\n",
    "\n",
    "df = df_train.copy() #Making a copy of the data to avoid modifying the original\n",
    "\n",
    "df = df.drop_duplicates(keep='first')\n",
    "df.duplicated().sum()"
   ]
  },
  {
   "cell_type": "code",
   "execution_count": 18,
   "id": "b30b594a",
   "metadata": {},
   "outputs": [
    {
     "data": {
      "text/plain": [
       "(29948, 3)"
      ]
     },
     "execution_count": 18,
     "metadata": {},
     "output_type": "execute_result"
    }
   ],
   "source": [
    "#Checking the shape of our data after removing duplicates\n",
    "df.shape"
   ]
  },
  {
   "cell_type": "markdown",
   "id": "202d3cf2",
   "metadata": {},
   "source": [
    "## 2.1 Data Cleaning\n",
    "\n",
    "The dataset contains noise - remove ounctuations, non-alphanumeric characters. We need to perform data cleaning to ensure the data is suitable for modeling. This step involves removing unnecessary characters etc."
   ]
  },
  {
   "cell_type": "code",
   "execution_count": 24,
   "id": "d6cb83b6",
   "metadata": {},
   "outputs": [
    {
     "data": {
      "text/html": [
       "<div>\n",
       "<style scoped>\n",
       "    .dataframe tbody tr th:only-of-type {\n",
       "        vertical-align: middle;\n",
       "    }\n",
       "\n",
       "    .dataframe tbody tr th {\n",
       "        vertical-align: top;\n",
       "    }\n",
       "\n",
       "    .dataframe thead th {\n",
       "        text-align: right;\n",
       "    }\n",
       "</style>\n",
       "<table border=\"1\" class=\"dataframe\">\n",
       "  <thead>\n",
       "    <tr style=\"text-align: right;\">\n",
       "      <th></th>\n",
       "      <th>lang_id</th>\n",
       "      <th>text</th>\n",
       "      <th>clean_text</th>\n",
       "    </tr>\n",
       "  </thead>\n",
       "  <tbody>\n",
       "    <tr>\n",
       "      <th>0</th>\n",
       "      <td>xho</td>\n",
       "      <td>umgaqo-siseko wenza amalungiselelo kumaziko ax...</td>\n",
       "      <td>umgaqosiseko wenza amalungiselelo kumaziko axh...</td>\n",
       "    </tr>\n",
       "    <tr>\n",
       "      <th>1</th>\n",
       "      <td>xho</td>\n",
       "      <td>i-dha iya kuba nobulumko bokubeka umsebenzi na...</td>\n",
       "      <td>idha iya kuba nobulumko bokubeka umsebenzi nap...</td>\n",
       "    </tr>\n",
       "    <tr>\n",
       "      <th>2</th>\n",
       "      <td>eng</td>\n",
       "      <td>the province of kwazulu-natal department of tr...</td>\n",
       "      <td>the province of kwazulunatal department of tra...</td>\n",
       "    </tr>\n",
       "    <tr>\n",
       "      <th>3</th>\n",
       "      <td>nso</td>\n",
       "      <td>o netefatša gore o ba file dilo ka moka tše le...</td>\n",
       "      <td>o netefatša gore o ba file dilo ka moka tše le...</td>\n",
       "    </tr>\n",
       "    <tr>\n",
       "      <th>4</th>\n",
       "      <td>ven</td>\n",
       "      <td>khomishini ya ndinganyiso ya mbeu yo ewa maana...</td>\n",
       "      <td>khomishini ya ndinganyiso ya mbeu yo ewa maana...</td>\n",
       "    </tr>\n",
       "  </tbody>\n",
       "</table>\n",
       "</div>"
      ],
      "text/plain": [
       "  lang_id                                               text   \n",
       "0     xho  umgaqo-siseko wenza amalungiselelo kumaziko ax...  \\\n",
       "1     xho  i-dha iya kuba nobulumko bokubeka umsebenzi na...   \n",
       "2     eng  the province of kwazulu-natal department of tr...   \n",
       "3     nso  o netefatša gore o ba file dilo ka moka tše le...   \n",
       "4     ven  khomishini ya ndinganyiso ya mbeu yo ewa maana...   \n",
       "\n",
       "                                          clean_text  \n",
       "0  umgaqosiseko wenza amalungiselelo kumaziko axh...  \n",
       "1  idha iya kuba nobulumko bokubeka umsebenzi nap...  \n",
       "2  the province of kwazulunatal department of tra...  \n",
       "3  o netefatša gore o ba file dilo ka moka tše le...  \n",
       "4  khomishini ya ndinganyiso ya mbeu yo ewa maana...  "
      ]
     },
     "execution_count": 24,
     "metadata": {},
     "output_type": "execute_result"
    }
   ],
   "source": [
    "def clean_text(text):\n",
    "    \n",
    "    text = text.lower() # Convert to lowercase\n",
    "    text = re.sub(r'[^\\w\\s]', '', text)  # Remove punctuations\n",
    "    text = re.sub(r'([^\\s\\w“”]|_)+', '', text) # Remove non-alphanumeric characters such as repeated punctuation marks\n",
    "    text = ' '.join(text.split()) # Remove whitespace\n",
    "\n",
    "    return text.strip()\n",
    "\n",
    "df['clean_text'] = df['text'].apply(clean_text)\n",
    "df.head()"
   ]
  },
  {
   "cell_type": "markdown",
   "id": "54e8da49",
   "metadata": {},
   "source": [
    "## 2.2 Data Visualizations\n",
    "\n",
    "This can help us understand the distribution of languages in the dataset and identify any patterns or imbalances. We can create plots such as bar charts or word clouds to visualize the data."
   ]
  },
  {
   "cell_type": "code",
   "execution_count": 19,
   "id": "641739f2",
   "metadata": {},
   "outputs": [
    {
     "data": {
      "image/png": "[encoded data removed]",
      "text/plain": [
       "<Figure size 900x500 with 1 Axes>"
      ]
     },
     "metadata": {},
     "output_type": "display_data"
    }
   ],
   "source": [
    "#Lets plot our language distribution again after removing duplicates\n",
    "\n",
    "# Count the occurrences of each language ID\n",
    "lang_counts = df['lang_id'].value_counts()\n",
    "\n",
    "# Plot the distribution\n",
    "plt.figure(figsize=(9, 5))\n",
    "lang_counts.plot(kind='bar', color = sns.color_palette())\n",
    "\n",
    "# Define the custom labels and figure size\n",
    "lang_labels = {lang_id: lang_id for lang_id in unique_ids}\n",
    "\n",
    "# Customize xticks and rotation of x-axis labels to improve readability\n",
    "plt.xticks(range(len(lang_counts.index)),lang_counts.rename(index=lang_labels).index, rotation=45)\n",
    "\n",
    "plt.title('Language Distribution')\n",
    "plt.xlabel('Language ID')\n",
    "plt.ylabel('Count')\n",
    "plt.show()"
   ]
  },
  {
   "cell_type": "markdown",
   "id": "c395e642",
   "metadata": {},
   "source": [
    "After removing duplicates, our data is now slightly skewed."
   ]
  },
  {
   "cell_type": "code",
   "execution_count": 25,
   "id": "d43e20b6",
   "metadata": {},
   "outputs": [
    {
     "data": {
      "text/html": [
       "<div>\n",
       "<style scoped>\n",
       "    .dataframe tbody tr th:only-of-type {\n",
       "        vertical-align: middle;\n",
       "    }\n",
       "\n",
       "    .dataframe tbody tr th {\n",
       "        vertical-align: top;\n",
       "    }\n",
       "\n",
       "    .dataframe thead th {\n",
       "        text-align: right;\n",
       "    }\n",
       "</style>\n",
       "<table border=\"1\" class=\"dataframe\">\n",
       "  <thead>\n",
       "    <tr style=\"text-align: right;\">\n",
       "      <th></th>\n",
       "      <th>lang_id</th>\n",
       "      <th>text</th>\n",
       "      <th>clean_text</th>\n",
       "      <th>text_length</th>\n",
       "    </tr>\n",
       "  </thead>\n",
       "  <tbody>\n",
       "    <tr>\n",
       "      <th>0</th>\n",
       "      <td>xho</td>\n",
       "      <td>umgaqo-siseko wenza amalungiselelo kumaziko ax...</td>\n",
       "      <td>umgaqosiseko wenza amalungiselelo kumaziko axh...</td>\n",
       "      <td>219</td>\n",
       "    </tr>\n",
       "    <tr>\n",
       "      <th>1</th>\n",
       "      <td>xho</td>\n",
       "      <td>i-dha iya kuba nobulumko bokubeka umsebenzi na...</td>\n",
       "      <td>idha iya kuba nobulumko bokubeka umsebenzi nap...</td>\n",
       "      <td>250</td>\n",
       "    </tr>\n",
       "    <tr>\n",
       "      <th>2</th>\n",
       "      <td>eng</td>\n",
       "      <td>the province of kwazulu-natal department of tr...</td>\n",
       "      <td>the province of kwazulunatal department of tra...</td>\n",
       "      <td>263</td>\n",
       "    </tr>\n",
       "    <tr>\n",
       "      <th>3</th>\n",
       "      <td>nso</td>\n",
       "      <td>o netefatša gore o ba file dilo ka moka tše le...</td>\n",
       "      <td>o netefatša gore o ba file dilo ka moka tše le...</td>\n",
       "      <td>217</td>\n",
       "    </tr>\n",
       "    <tr>\n",
       "      <th>4</th>\n",
       "      <td>ven</td>\n",
       "      <td>khomishini ya ndinganyiso ya mbeu yo ewa maana...</td>\n",
       "      <td>khomishini ya ndinganyiso ya mbeu yo ewa maana...</td>\n",
       "      <td>239</td>\n",
       "    </tr>\n",
       "  </tbody>\n",
       "</table>\n",
       "</div>"
      ],
      "text/plain": [
       "  lang_id                                               text   \n",
       "0     xho  umgaqo-siseko wenza amalungiselelo kumaziko ax...  \\\n",
       "1     xho  i-dha iya kuba nobulumko bokubeka umsebenzi na...   \n",
       "2     eng  the province of kwazulu-natal department of tr...   \n",
       "3     nso  o netefatša gore o ba file dilo ka moka tše le...   \n",
       "4     ven  khomishini ya ndinganyiso ya mbeu yo ewa maana...   \n",
       "\n",
       "                                          clean_text  text_length  \n",
       "0  umgaqosiseko wenza amalungiselelo kumaziko axh...          219  \n",
       "1  idha iya kuba nobulumko bokubeka umsebenzi nap...          250  \n",
       "2  the province of kwazulunatal department of tra...          263  \n",
       "3  o netefatša gore o ba file dilo ka moka tše le...          217  \n",
       "4  khomishini ya ndinganyiso ya mbeu yo ewa maana...          239  "
      ]
     },
     "execution_count": 25,
     "metadata": {},
     "output_type": "execute_result"
    }
   ],
   "source": [
    "# Let's calculate the length of the text in each row to help us perform som statictics\n",
    "df['text_length'] = df['clean_text'].apply(len)\n",
    "df.head()"
   ]
  },
  {
   "cell_type": "code",
   "execution_count": 26,
   "id": "74436ba9",
   "metadata": {},
   "outputs": [
    {
     "data": {
      "text/html": [
       "<div>\n",
       "<style scoped>\n",
       "    .dataframe tbody tr th:only-of-type {\n",
       "        vertical-align: middle;\n",
       "    }\n",
       "\n",
       "    .dataframe tbody tr th {\n",
       "        vertical-align: top;\n",
       "    }\n",
       "\n",
       "    .dataframe thead th {\n",
       "        text-align: right;\n",
       "    }\n",
       "</style>\n",
       "<table border=\"1\" class=\"dataframe\">\n",
       "  <thead>\n",
       "    <tr style=\"text-align: right;\">\n",
       "      <th></th>\n",
       "      <th>count</th>\n",
       "      <th>mean</th>\n",
       "      <th>std</th>\n",
       "      <th>min</th>\n",
       "      <th>25%</th>\n",
       "      <th>50%</th>\n",
       "      <th>75%</th>\n",
       "      <th>max</th>\n",
       "    </tr>\n",
       "    <tr>\n",
       "      <th>lang_id</th>\n",
       "      <th></th>\n",
       "      <th></th>\n",
       "      <th></th>\n",
       "      <th></th>\n",
       "      <th></th>\n",
       "      <th></th>\n",
       "      <th></th>\n",
       "      <th></th>\n",
       "    </tr>\n",
       "  </thead>\n",
       "  <tbody>\n",
       "    <tr>\n",
       "      <th>afr</th>\n",
       "      <td>2641.0</td>\n",
       "      <td>245.188944</td>\n",
       "      <td>28.523135</td>\n",
       "      <td>198.0</td>\n",
       "      <td>220.0</td>\n",
       "      <td>244.0</td>\n",
       "      <td>269.0</td>\n",
       "      <td>299.0</td>\n",
       "    </tr>\n",
       "    <tr>\n",
       "      <th>eng</th>\n",
       "      <td>2998.0</td>\n",
       "      <td>245.355570</td>\n",
       "      <td>28.489424</td>\n",
       "      <td>196.0</td>\n",
       "      <td>221.0</td>\n",
       "      <td>243.0</td>\n",
       "      <td>270.0</td>\n",
       "      <td>299.0</td>\n",
       "    </tr>\n",
       "    <tr>\n",
       "      <th>nbl</th>\n",
       "      <td>2362.0</td>\n",
       "      <td>244.162574</td>\n",
       "      <td>28.317896</td>\n",
       "      <td>192.0</td>\n",
       "      <td>219.0</td>\n",
       "      <td>243.0</td>\n",
       "      <td>267.0</td>\n",
       "      <td>299.0</td>\n",
       "    </tr>\n",
       "    <tr>\n",
       "      <th>nso</th>\n",
       "      <td>2873.0</td>\n",
       "      <td>241.705186</td>\n",
       "      <td>28.249518</td>\n",
       "      <td>195.0</td>\n",
       "      <td>217.0</td>\n",
       "      <td>238.0</td>\n",
       "      <td>265.0</td>\n",
       "      <td>299.0</td>\n",
       "    </tr>\n",
       "    <tr>\n",
       "      <th>sot</th>\n",
       "      <td>2833.0</td>\n",
       "      <td>246.688316</td>\n",
       "      <td>28.978744</td>\n",
       "      <td>193.0</td>\n",
       "      <td>221.0</td>\n",
       "      <td>245.0</td>\n",
       "      <td>272.0</td>\n",
       "      <td>299.0</td>\n",
       "    </tr>\n",
       "    <tr>\n",
       "      <th>ssw</th>\n",
       "      <td>2426.0</td>\n",
       "      <td>244.034213</td>\n",
       "      <td>28.270433</td>\n",
       "      <td>196.0</td>\n",
       "      <td>219.0</td>\n",
       "      <td>241.0</td>\n",
       "      <td>268.0</td>\n",
       "      <td>299.0</td>\n",
       "    </tr>\n",
       "    <tr>\n",
       "      <th>tsn</th>\n",
       "      <td>2869.0</td>\n",
       "      <td>245.441617</td>\n",
       "      <td>28.665346</td>\n",
       "      <td>197.0</td>\n",
       "      <td>220.0</td>\n",
       "      <td>244.0</td>\n",
       "      <td>270.0</td>\n",
       "      <td>299.0</td>\n",
       "    </tr>\n",
       "    <tr>\n",
       "      <th>tso</th>\n",
       "      <td>2758.0</td>\n",
       "      <td>244.760696</td>\n",
       "      <td>28.387584</td>\n",
       "      <td>196.0</td>\n",
       "      <td>220.0</td>\n",
       "      <td>243.0</td>\n",
       "      <td>269.0</td>\n",
       "      <td>299.0</td>\n",
       "    </tr>\n",
       "    <tr>\n",
       "      <th>ven</th>\n",
       "      <td>2605.0</td>\n",
       "      <td>245.426488</td>\n",
       "      <td>28.284171</td>\n",
       "      <td>198.0</td>\n",
       "      <td>221.0</td>\n",
       "      <td>243.0</td>\n",
       "      <td>269.0</td>\n",
       "      <td>299.0</td>\n",
       "    </tr>\n",
       "    <tr>\n",
       "      <th>xho</th>\n",
       "      <td>2659.0</td>\n",
       "      <td>244.244077</td>\n",
       "      <td>28.235976</td>\n",
       "      <td>197.0</td>\n",
       "      <td>220.0</td>\n",
       "      <td>242.0</td>\n",
       "      <td>267.5</td>\n",
       "      <td>299.0</td>\n",
       "    </tr>\n",
       "    <tr>\n",
       "      <th>zul</th>\n",
       "      <td>2924.0</td>\n",
       "      <td>242.243844</td>\n",
       "      <td>28.437862</td>\n",
       "      <td>196.0</td>\n",
       "      <td>217.0</td>\n",
       "      <td>239.0</td>\n",
       "      <td>265.0</td>\n",
       "      <td>299.0</td>\n",
       "    </tr>\n",
       "  </tbody>\n",
       "</table>\n",
       "</div>"
      ],
      "text/plain": [
       "          count        mean        std    min    25%    50%    75%    max\n",
       "lang_id                                                                  \n",
       "afr      2641.0  245.188944  28.523135  198.0  220.0  244.0  269.0  299.0\n",
       "eng      2998.0  245.355570  28.489424  196.0  221.0  243.0  270.0  299.0\n",
       "nbl      2362.0  244.162574  28.317896  192.0  219.0  243.0  267.0  299.0\n",
       "nso      2873.0  241.705186  28.249518  195.0  217.0  238.0  265.0  299.0\n",
       "sot      2833.0  246.688316  28.978744  193.0  221.0  245.0  272.0  299.0\n",
       "ssw      2426.0  244.034213  28.270433  196.0  219.0  241.0  268.0  299.0\n",
       "tsn      2869.0  245.441617  28.665346  197.0  220.0  244.0  270.0  299.0\n",
       "tso      2758.0  244.760696  28.387584  196.0  220.0  243.0  269.0  299.0\n",
       "ven      2605.0  245.426488  28.284171  198.0  221.0  243.0  269.0  299.0\n",
       "xho      2659.0  244.244077  28.235976  197.0  220.0  242.0  267.5  299.0\n",
       "zul      2924.0  242.243844  28.437862  196.0  217.0  239.0  265.0  299.0"
      ]
     },
     "execution_count": 26,
     "metadata": {},
     "output_type": "execute_result"
    }
   ],
   "source": [
    "# Group by language ID and calculate statistics\n",
    "lang_stats = df.groupby('lang_id')['text_length'].describe()\n",
    "lang_stats"
   ]
  },
  {
   "cell_type": "code",
   "execution_count": 29,
   "id": "4d9fb523",
   "metadata": {},
   "outputs": [
    {
     "data": {
      "text/plain": [
       "<Figure size 1200x1000 with 0 Axes>"
      ]
     },
     "metadata": {},
     "output_type": "display_data"
    },
    {
     "data": {
      "image/png": "[encoded data removed]",
      "text/plain": [
       "<Figure size 640x480 with 1 Axes>"
      ]
     },
     "metadata": {},
     "output_type": "display_data"
    }
   ],
   "source": [
    "#Let's plot a boxplot, to visualize the distribution of the text length and all look out for outliers\n",
    "\n",
    "# Plot the text length distribution\n",
    "plt.figure(figsize=(10, 6))\n",
    "df.boxplot(column='text_length', by='lang_id')\n",
    "plt.xlabel('Language ID')\n",
    "plt.ylabel('Text Length')\n",
    "plt.title('Text Length Distribution by Language')\n",
    "plt.show()"
   ]
  },
  {
   "cell_type": "markdown",
   "id": "fd282c6f",
   "metadata": {},
   "source": [
    "Observe that there are no points outside the whiskers, this shows the absence of outliers. When this plot was made with the dataset containing duplicates, some points were observed outside the whiskers. After removing those duplicates, we don't see the outliers anymore and the model performed slightly better."
   ]
  },
  {
   "cell_type": "code",
   "execution_count": 30,
   "id": "e9e0563a",
   "metadata": {},
   "outputs": [],
   "source": [
    "# Remove columns that are not required \n",
    "\n",
    "df = df.drop(['text'], axis =1)"
   ]
  },
  {
   "cell_type": "code",
   "execution_count": 31,
   "id": "18fc3bc4",
   "metadata": {},
   "outputs": [
    {
     "data": {
      "text/html": [
       "<div>\n",
       "<style scoped>\n",
       "    .dataframe tbody tr th:only-of-type {\n",
       "        vertical-align: middle;\n",
       "    }\n",
       "\n",
       "    .dataframe tbody tr th {\n",
       "        vertical-align: top;\n",
       "    }\n",
       "\n",
       "    .dataframe thead th {\n",
       "        text-align: right;\n",
       "    }\n",
       "</style>\n",
       "<table border=\"1\" class=\"dataframe\">\n",
       "  <thead>\n",
       "    <tr style=\"text-align: right;\">\n",
       "      <th></th>\n",
       "      <th>lang_id</th>\n",
       "      <th>clean_text</th>\n",
       "      <th>text_length</th>\n",
       "    </tr>\n",
       "  </thead>\n",
       "  <tbody>\n",
       "    <tr>\n",
       "      <th>0</th>\n",
       "      <td>xho</td>\n",
       "      <td>umgaqosiseko wenza amalungiselelo kumaziko axh...</td>\n",
       "      <td>219</td>\n",
       "    </tr>\n",
       "    <tr>\n",
       "      <th>1</th>\n",
       "      <td>xho</td>\n",
       "      <td>idha iya kuba nobulumko bokubeka umsebenzi nap...</td>\n",
       "      <td>250</td>\n",
       "    </tr>\n",
       "    <tr>\n",
       "      <th>2</th>\n",
       "      <td>eng</td>\n",
       "      <td>the province of kwazulunatal department of tra...</td>\n",
       "      <td>263</td>\n",
       "    </tr>\n",
       "    <tr>\n",
       "      <th>3</th>\n",
       "      <td>nso</td>\n",
       "      <td>o netefatša gore o ba file dilo ka moka tše le...</td>\n",
       "      <td>217</td>\n",
       "    </tr>\n",
       "    <tr>\n",
       "      <th>4</th>\n",
       "      <td>ven</td>\n",
       "      <td>khomishini ya ndinganyiso ya mbeu yo ewa maana...</td>\n",
       "      <td>239</td>\n",
       "    </tr>\n",
       "  </tbody>\n",
       "</table>\n",
       "</div>"
      ],
      "text/plain": [
       "  lang_id                                         clean_text  text_length\n",
       "0     xho  umgaqosiseko wenza amalungiselelo kumaziko axh...          219\n",
       "1     xho  idha iya kuba nobulumko bokubeka umsebenzi nap...          250\n",
       "2     eng  the province of kwazulunatal department of tra...          263\n",
       "3     nso  o netefatša gore o ba file dilo ka moka tše le...          217\n",
       "4     ven  khomishini ya ndinganyiso ya mbeu yo ewa maana...          239"
      ]
     },
     "execution_count": 31,
     "metadata": {},
     "output_type": "execute_result"
    }
   ],
   "source": [
    "df.head()"
   ]
  },
  {
   "cell_type": "markdown",
   "id": "575df097",
   "metadata": {},
   "source": [
    "## 2.3 Preprocessing Test Data\n",
    "\n",
    "To align the test data with the preprocessing steps applied to the training data, we need to clean it and check for duplicates. This ensures consistency and allows us to make accurate predictions on unseen text samples."
   ]
  },
  {
   "cell_type": "code",
   "execution_count": 32,
   "id": "0a171a76",
   "metadata": {},
   "outputs": [
    {
     "data": {
      "text/plain": [
       "0"
      ]
     },
     "execution_count": 32,
     "metadata": {},
     "output_type": "execute_result"
    }
   ],
   "source": [
    "#check for duplicates\n",
    "\n",
    "df_test.duplicated().sum() "
   ]
  },
  {
   "cell_type": "code",
   "execution_count": 36,
   "id": "f411f325",
   "metadata": {},
   "outputs": [
    {
     "data": {
      "text/html": [
       "<div>\n",
       "<style scoped>\n",
       "    .dataframe tbody tr th:only-of-type {\n",
       "        vertical-align: middle;\n",
       "    }\n",
       "\n",
       "    .dataframe tbody tr th {\n",
       "        vertical-align: top;\n",
       "    }\n",
       "\n",
       "    .dataframe thead th {\n",
       "        text-align: right;\n",
       "    }\n",
       "</style>\n",
       "<table border=\"1\" class=\"dataframe\">\n",
       "  <thead>\n",
       "    <tr style=\"text-align: right;\">\n",
       "      <th></th>\n",
       "      <th>index</th>\n",
       "      <th>text</th>\n",
       "      <th>clean_text</th>\n",
       "    </tr>\n",
       "  </thead>\n",
       "  <tbody>\n",
       "    <tr>\n",
       "      <th>0</th>\n",
       "      <td>1</td>\n",
       "      <td>Mmasepala, fa maemo a a kgethegileng a letlele...</td>\n",
       "      <td>mmasepala fa maemo a a kgethegileng a letlelel...</td>\n",
       "    </tr>\n",
       "    <tr>\n",
       "      <th>1</th>\n",
       "      <td>2</td>\n",
       "      <td>Uzakwaziswa ngokufaneleko nakungafuneka eminye...</td>\n",
       "      <td>uzakwaziswa ngokufaneleko nakungafuneka eminye...</td>\n",
       "    </tr>\n",
       "    <tr>\n",
       "      <th>2</th>\n",
       "      <td>3</td>\n",
       "      <td>Tshivhumbeo tshi fana na ngano dza vhathu.</td>\n",
       "      <td>tshivhumbeo tshi fana na ngano dza vhathu</td>\n",
       "    </tr>\n",
       "    <tr>\n",
       "      <th>3</th>\n",
       "      <td>4</td>\n",
       "      <td>Kube inja nelikati betingevakala kutsi titsini...</td>\n",
       "      <td>kube inja nelikati betingevakala kutsi titsini...</td>\n",
       "    </tr>\n",
       "    <tr>\n",
       "      <th>4</th>\n",
       "      <td>5</td>\n",
       "      <td>Winste op buitelandse valuta.</td>\n",
       "      <td>winste op buitelandse valuta</td>\n",
       "    </tr>\n",
       "  </tbody>\n",
       "</table>\n",
       "</div>"
      ],
      "text/plain": [
       "   index                                               text   \n",
       "0      1  Mmasepala, fa maemo a a kgethegileng a letlele...  \\\n",
       "1      2  Uzakwaziswa ngokufaneleko nakungafuneka eminye...   \n",
       "2      3         Tshivhumbeo tshi fana na ngano dza vhathu.   \n",
       "3      4  Kube inja nelikati betingevakala kutsi titsini...   \n",
       "4      5                      Winste op buitelandse valuta.   \n",
       "\n",
       "                                          clean_text  \n",
       "0  mmasepala fa maemo a a kgethegileng a letlelel...  \n",
       "1  uzakwaziswa ngokufaneleko nakungafuneka eminye...  \n",
       "2          tshivhumbeo tshi fana na ngano dza vhathu  \n",
       "3  kube inja nelikati betingevakala kutsi titsini...  \n",
       "4                       winste op buitelandse valuta  "
      ]
     },
     "execution_count": 36,
     "metadata": {},
     "output_type": "execute_result"
    }
   ],
   "source": [
    "df_test_clean = df_test.copy() #Make a copy to avoid modification of original\n",
    "\n",
    "\n",
    "def clean_text(text):\n",
    "    \n",
    "    text = text.lower() # Convert to lowercase\n",
    "    text = re.sub(r'[^\\w\\s]', '', text)  # Remove punctuations\n",
    "    text = re.sub(r'([^\\s\\w“”]|_)+', '', text) # Remove non-alphanumeric characters such as repeated punctuation marks\n",
    "    text = ' '.join(text.split()) # Remove whitespace\n",
    "    \n",
    "    return text.strip()\n",
    "\n",
    "df_test_clean['clean_text'] = df_test_clean['text'].apply(clean_text)\n",
    "df_test_clean.head()"
   ]
  },
  {
   "cell_type": "code",
   "execution_count": 37,
   "id": "bbe57d02",
   "metadata": {},
   "outputs": [],
   "source": [
    "#Lets drop columns that are not required\n",
    "df_test_clean = df_test_clean.drop(['text'], axis =1)"
   ]
  },
  {
   "cell_type": "code",
   "execution_count": 38,
   "id": "a033fe1d",
   "metadata": {},
   "outputs": [
    {
     "data": {
      "text/html": [
       "<div>\n",
       "<style scoped>\n",
       "    .dataframe tbody tr th:only-of-type {\n",
       "        vertical-align: middle;\n",
       "    }\n",
       "\n",
       "    .dataframe tbody tr th {\n",
       "        vertical-align: top;\n",
       "    }\n",
       "\n",
       "    .dataframe thead th {\n",
       "        text-align: right;\n",
       "    }\n",
       "</style>\n",
       "<table border=\"1\" class=\"dataframe\">\n",
       "  <thead>\n",
       "    <tr style=\"text-align: right;\">\n",
       "      <th></th>\n",
       "      <th>index</th>\n",
       "      <th>clean_text</th>\n",
       "    </tr>\n",
       "  </thead>\n",
       "  <tbody>\n",
       "    <tr>\n",
       "      <th>0</th>\n",
       "      <td>1</td>\n",
       "      <td>mmasepala fa maemo a a kgethegileng a letlelel...</td>\n",
       "    </tr>\n",
       "    <tr>\n",
       "      <th>1</th>\n",
       "      <td>2</td>\n",
       "      <td>uzakwaziswa ngokufaneleko nakungafuneka eminye...</td>\n",
       "    </tr>\n",
       "    <tr>\n",
       "      <th>2</th>\n",
       "      <td>3</td>\n",
       "      <td>tshivhumbeo tshi fana na ngano dza vhathu</td>\n",
       "    </tr>\n",
       "    <tr>\n",
       "      <th>3</th>\n",
       "      <td>4</td>\n",
       "      <td>kube inja nelikati betingevakala kutsi titsini...</td>\n",
       "    </tr>\n",
       "    <tr>\n",
       "      <th>4</th>\n",
       "      <td>5</td>\n",
       "      <td>winste op buitelandse valuta</td>\n",
       "    </tr>\n",
       "  </tbody>\n",
       "</table>\n",
       "</div>"
      ],
      "text/plain": [
       "   index                                         clean_text\n",
       "0      1  mmasepala fa maemo a a kgethegileng a letlelel...\n",
       "1      2  uzakwaziswa ngokufaneleko nakungafuneka eminye...\n",
       "2      3          tshivhumbeo tshi fana na ngano dza vhathu\n",
       "3      4  kube inja nelikati betingevakala kutsi titsini...\n",
       "4      5                       winste op buitelandse valuta"
      ]
     },
     "execution_count": 38,
     "metadata": {},
     "output_type": "execute_result"
    }
   ],
   "source": [
    "df_test_clean.head()"
   ]
  },
  {
   "cell_type": "markdown",
   "id": "2900a3de",
   "metadata": {},
   "source": [
    "___"
   ]
  },
  {
   "cell_type": "markdown",
   "id": "fd5485dd",
   "metadata": {},
   "source": [
    "# 3.0 Text Data Transforming\n",
    "\n",
    "To train a language identification model, we need to convert the text data into numerical representations. This step involves techniques such as tokenization, vectorization (e.g. CountVectorizer, TF-IDF), or label encodings to transform the text data into feature vectors suitable for modeling.\n",
    "\n",
    "\n",
    "## 3.1 Text Features\n",
    "\n",
    "First, we will convert the text features into numbers using the count vectorization method. "
   ]
  },
  {
   "cell_type": "code",
   "execution_count": 39,
   "id": "8d20e799",
   "metadata": {},
   "outputs": [],
   "source": [
    "#Create an instance to count vectorizer to transform text to real numbers\n",
    "vectorizer = CountVectorizer(ngram_range=(1,2))\n",
    "\n",
    "#Fit the text data into vectorizer and transform it\n",
    "X = vectorizer.fit_transform(df['clean_text'].values.astype(str)) "
   ]
  },
  {
   "cell_type": "markdown",
   "id": "32d2b8b7",
   "metadata": {},
   "source": [
    "## 3.2 Target Variable\n",
    "\n",
    "Given that our label (ie target variable) is in text format, it is important to convert then to real numbers. We will perform this task using label encoder, since we are dealing with multi-class."
   ]
  },
  {
   "cell_type": "code",
   "execution_count": 40,
   "id": "a87c5ee7",
   "metadata": {},
   "outputs": [],
   "source": [
    "#Create an instance of the label encoder\n",
    "le = LabelEncoder()\n",
    "\n",
    "# Fit the lang_id column to the label encoder and transform\n",
    "y = le.fit_transform(df['lang_id'])"
   ]
  },
  {
   "cell_type": "code",
   "execution_count": 41,
   "id": "76290a1e",
   "metadata": {},
   "outputs": [
    {
     "data": {
      "text/plain": [
       "array([9, 9, 1, ..., 1, 9, 4])"
      ]
     },
     "execution_count": 41,
     "metadata": {},
     "output_type": "execute_result"
    }
   ],
   "source": [
    "y"
   ]
  },
  {
   "cell_type": "code",
   "execution_count": 42,
   "id": "b2dc4797",
   "metadata": {},
   "outputs": [
    {
     "data": {
      "text/plain": [
       "['afr', 'eng', 'nbl', 'nso', 'sot', 'ssw', 'tsn', 'tso', 'ven', 'xho', 'zul']"
      ]
     },
     "execution_count": 42,
     "metadata": {},
     "output_type": "execute_result"
    }
   ],
   "source": [
    "# Let's Obtain the unique list of label encoder types\n",
    "labels = list(le.classes_)\n",
    "labels"
   ]
  },
  {
   "cell_type": "markdown",
   "id": "28dca5ad",
   "metadata": {},
   "source": [
    "## 3.3 Train-test Data Split"
   ]
  },
  {
   "cell_type": "code",
   "execution_count": 43,
   "id": "7e67f642",
   "metadata": {},
   "outputs": [],
   "source": [
    "# Split the data into training and testing sets and set a random state for reproducibility\n",
    "X_train, X_test, y_train, y_test = train_test_split(X, y, test_size=0.2, random_state=42)"
   ]
  },
  {
   "cell_type": "code",
   "execution_count": 44,
   "id": "25d42676",
   "metadata": {},
   "outputs": [
    {
     "name": "stdout",
     "output_type": "stream",
     "text": [
      "(23958, 715943)\n",
      "(5990, 715943)\n"
     ]
    }
   ],
   "source": [
    "print(X_train.shape)\n",
    "print(X_test.shape)"
   ]
  },
  {
   "cell_type": "markdown",
   "id": "965c0cd1",
   "metadata": {},
   "source": [
    "___"
   ]
  },
  {
   "cell_type": "markdown",
   "id": "49e64552",
   "metadata": {},
   "source": [
    "# 4.0 Model Building and Evaluation\n",
    "\n",
    "We will now proceed to build our language identification model using the transformed text data. We can choose from various classifiers such as SVC, Naive Bayes, Logistic Regression, or Random Forest. The model will be trained on the training dataset and evaluated using appropriate metrics."
   ]
  },
  {
   "cell_type": "markdown",
   "id": "3f226321",
   "metadata": {},
   "source": [
    "## 4.1 Logistic Regression\n",
    "\n",
    "Logistic Regression uses a logistic function (sigmoid) to model the probability of an instance belonging to a certain class.\n",
    "\n",
    "The algorithm learns the best coefficients for the input features to minimize the difference between predicted probabilities and actual class labels. It's simple, interpretable, and commonly used when the relationship between features and the target variable is assumed to be linear."
   ]
  },
  {
   "cell_type": "code",
   "execution_count": 158,
   "id": "bc7d8f47",
   "metadata": {},
   "outputs": [],
   "source": [
    "#Initialize the logistic regression classifier\n",
    "lr = LogisticRegression(max_iter=1000)\n",
    "\n",
    "#Train the classifier\n",
    "lr.fit(X_train, y_train)\n",
    "\n",
    "#Make Predictions on the testing data\n",
    "y_pred = lr.predict(X_test)"
   ]
  },
  {
   "cell_type": "code",
   "execution_count": 159,
   "id": "c4b755e4",
   "metadata": {},
   "outputs": [
    {
     "name": "stdout",
     "output_type": "stream",
     "text": [
      "Linear regression Accuracy: 0.993322203672788\n",
      "Classification Report\n",
      "              precision    recall  f1-score   support\n",
      "\n",
      "         afr       1.00      1.00      1.00       553\n",
      "         eng       1.00      1.00      1.00       603\n",
      "         nbl       0.98      0.97      0.98       473\n",
      "         nso       1.00      0.99      1.00       559\n",
      "         sot       1.00      1.00      1.00       606\n",
      "         ssw       0.99      0.99      0.99       481\n",
      "         tsn       1.00      1.00      1.00       543\n",
      "         tso       1.00      1.00      1.00       548\n",
      "         ven       1.00      1.00      1.00       509\n",
      "         xho       0.98      0.99      0.99       503\n",
      "         zul       0.98      0.98      0.98       612\n",
      "\n",
      "    accuracy                           0.99      5990\n",
      "   macro avg       0.99      0.99      0.99      5990\n",
      "weighted avg       0.99      0.99      0.99      5990\n",
      "\n"
     ]
    }
   ],
   "source": [
    "#Evaluate model performance\n",
    "# Calculate accuracy\n",
    "accuracy = accuracy_score(y_test, y_pred)\n",
    "\n",
    "print(\"Linear regression Accuracy:\", accuracy)\n",
    "print('Classification Report')\n",
    "print(classification_report(y_test, y_pred, target_names=labels))"
   ]
  },
  {
   "cell_type": "markdown",
   "id": "ca9c0e0e",
   "metadata": {},
   "source": [
    "## 4.2 Random Forest Classifier\n",
    "\n",
    "This is an ensemble learning method that combines multiple decision trees to make predictions. It creates a forest of decision trees, where each tree is trained on a random subset of the data.\n",
    "\n",
    "During prediction, each tree independently predicts the class, and the final result is determined by majority voting or averaging the predictions. Random Forests are effective for handling complex relationships, feature interactions, and dealing with noisy data."
   ]
  },
  {
   "cell_type": "code",
   "execution_count": 160,
   "id": "2db9f46b",
   "metadata": {},
   "outputs": [],
   "source": [
    "# Initialize Random Forest classifier\n",
    "rf_classifier = RandomForestClassifier(n_estimators=100)\n",
    "\n",
    "# Train the classifier\n",
    "rf_classifier.fit(X_train, y_train)\n",
    "\n",
    "# Make predictions on the testing data\n",
    "rf_pred = rf_classifier.predict(X_test)"
   ]
  },
  {
   "cell_type": "code",
   "execution_count": 161,
   "id": "8dd4cd5b",
   "metadata": {},
   "outputs": [
    {
     "name": "stdout",
     "output_type": "stream",
     "text": [
      "Random Forest Accuracy: 0.9849749582637729\n",
      "Classification Report\n",
      "              precision    recall  f1-score   support\n",
      "\n",
      "         afr       1.00      1.00      1.00       553\n",
      "         eng       0.99      1.00      0.99       603\n",
      "         nbl       0.98      0.91      0.95       473\n",
      "         nso       1.00      0.99      1.00       559\n",
      "         sot       1.00      1.00      1.00       606\n",
      "         ssw       0.99      0.96      0.98       481\n",
      "         tsn       0.99      1.00      1.00       543\n",
      "         tso       1.00      1.00      1.00       548\n",
      "         ven       1.00      1.00      1.00       509\n",
      "         xho       0.97      0.98      0.98       503\n",
      "         zul       0.92      0.97      0.94       612\n",
      "\n",
      "    accuracy                           0.98      5990\n",
      "   macro avg       0.99      0.98      0.98      5990\n",
      "weighted avg       0.99      0.98      0.98      5990\n",
      "\n"
     ]
    }
   ],
   "source": [
    "#Evaluate model performance\n",
    "\n",
    "# Calculate accuracy\n",
    "accuracy = accuracy_score(y_test, rf_pred)\n",
    "\n",
    "print(\"Random Forest Accuracy:\", accuracy)\n",
    "print('Classification Report')\n",
    "print(classification_report(y_test, rf_pred, target_names=labels))"
   ]
  },
  {
   "cell_type": "markdown",
   "id": "8d44ba6b",
   "metadata": {},
   "source": [
    "## 4.3 Support Vector Classifier\n",
    "\n",
    "Support Vector Classifier is a supervised learning algorithm that find the optimal decision boundary that separates the data points of different classes with the largest margin. It finds the best hyperplane in a high-dimensional feature space that maximizes the margin between classes."
   ]
  },
  {
   "cell_type": "code",
   "execution_count": 153,
   "id": "fc7352d0",
   "metadata": {},
   "outputs": [],
   "source": [
    "#Initialize the SVC model with setting the kernel to linear\n",
    "svc = SVC(kernel='rbf')\n",
    "\n",
    "#Train the classifer\n",
    "svc.fit(X_train, y_train)\n",
    "\n",
    "#Make predictions on the testing data\n",
    "svc_pred = svc.predict(X_test)"
   ]
  },
  {
   "cell_type": "code",
   "execution_count": 154,
   "id": "dc9f9366",
   "metadata": {},
   "outputs": [
    {
     "name": "stdout",
     "output_type": "stream",
     "text": [
      "SVC Accuracy: 0.9893155258764608\n",
      "Classification Report\n",
      "              precision    recall  f1-score   support\n",
      "\n",
      "         afr       1.00      0.99      1.00       553\n",
      "         eng       1.00      1.00      1.00       603\n",
      "         nbl       0.98      0.95      0.96       473\n",
      "         nso       1.00      0.99      1.00       559\n",
      "         sot       1.00      1.00      1.00       606\n",
      "         ssw       0.99      0.98      0.99       481\n",
      "         tsn       0.99      1.00      0.99       543\n",
      "         tso       1.00      1.00      1.00       548\n",
      "         ven       1.00      1.00      1.00       509\n",
      "         xho       0.97      0.99      0.98       503\n",
      "         zul       0.96      0.98      0.97       612\n",
      "\n",
      "    accuracy                           0.99      5990\n",
      "   macro avg       0.99      0.99      0.99      5990\n",
      "weighted avg       0.99      0.99      0.99      5990\n",
      "\n"
     ]
    }
   ],
   "source": [
    "#Evaluate model performance\n",
    "\n",
    "# Calculate accuracy\n",
    "accuracy = accuracy_score(y_test, svc_pred)\n",
    "\n",
    "print(\"SVC Accuracy:\", accuracy)\n",
    "print('Classification Report')\n",
    "print(classification_report(y_test, svc_pred, target_names=labels))"
   ]
  },
  {
   "cell_type": "markdown",
   "id": "16600612",
   "metadata": {},
   "source": [
    "## 4.4 Naive Bayes\n",
    "\n",
    "Naive Bayes is a probabilistic classifier based on Bayes' theorem and assumes independence between features.\n",
    "It calculates the probability of an instance belonging to a certain class using the conditional probabilities of features given the class. Despite its \"naive\" assumption, Naive Bayes often performs well and is computationally efficient."
   ]
  },
  {
   "cell_type": "code",
   "execution_count": 51,
   "id": "af1fde8e",
   "metadata": {},
   "outputs": [],
   "source": [
    "#Initialize the model\n",
    "nb_classifier = MultinomialNB(alpha = 0.001, fit_prior = True)\n",
    "\n",
    "# Train the classifier\n",
    "nb_classifier.fit(X_train, y_train)\n",
    "\n",
    "# Make predictions on the testing data\n",
    "nb_pred = nb_classifier.predict(X_test)"
   ]
  },
  {
   "cell_type": "code",
   "execution_count": 52,
   "id": "0443c2b9",
   "metadata": {},
   "outputs": [
    {
     "name": "stdout",
     "output_type": "stream",
     "text": [
      "Naive Bayes Accuracy: 0.9988313856427379\n",
      "Classification Report\n",
      "              precision    recall  f1-score   support\n",
      "\n",
      "         afr       1.00      1.00      1.00       553\n",
      "         eng       1.00      1.00      1.00       603\n",
      "         nbl       1.00      1.00      1.00       473\n",
      "         nso       1.00      1.00      1.00       559\n",
      "         sot       1.00      1.00      1.00       606\n",
      "         ssw       1.00      1.00      1.00       481\n",
      "         tsn       1.00      1.00      1.00       543\n",
      "         tso       1.00      1.00      1.00       548\n",
      "         ven       1.00      1.00      1.00       509\n",
      "         xho       1.00      1.00      1.00       503\n",
      "         zul       1.00      0.99      1.00       612\n",
      "\n",
      "    accuracy                           1.00      5990\n",
      "   macro avg       1.00      1.00      1.00      5990\n",
      "weighted avg       1.00      1.00      1.00      5990\n",
      "\n"
     ]
    }
   ],
   "source": [
    "#Evaluate model performance\n",
    "\n",
    "# Calculate accuracy\n",
    "accuracy = accuracy_score(y_test, nb_pred)\n",
    "\n",
    "print(\"Naive Bayes Accuracy:\", accuracy)\n",
    "print('Classification Report')\n",
    "print(classification_report(y_test, nb_pred, target_names=labels))"
   ]
  },
  {
   "cell_type": "markdown",
   "id": "51876af0",
   "metadata": {},
   "source": [
    "### Naive Bayes, showed the best performance so we tuned the parameters using GridSearchCV "
   ]
  },
  {
   "cell_type": "code",
   "execution_count": 47,
   "id": "1bc5cacf",
   "metadata": {
    "scrolled": true
   },
   "outputs": [
    {
     "name": "stdout",
     "output_type": "stream",
     "text": [
      "Best parameters: {'alpha': 0.1, 'fit_prior': True}\n",
      "Best score: 0.9989721555604912\n"
     ]
    }
   ],
   "source": [
    "# Define your MultinomialNB classifier\n",
    "mnb = MultinomialNB()\n",
    "\n",
    "# Define the parameter grid to search through\n",
    "param_grid = {\n",
    "    'alpha': [0.1, 1, 10],\n",
    "    'fit_prior': [True, False]\n",
    "}\n",
    "\n",
    "# Define the grid search with cross-validation\n",
    "grid_search = GridSearchCV(estimator=mnb, param_grid=param_grid, cv=5, scoring='f1_macro')\n",
    "\n",
    "# Perform grid search on your data\n",
    "grid_search.fit(X_train, y_train)\n",
    "\n",
    "# Print the best parameters and the best score\n",
    "print(\"Best parameters:\", grid_search.best_params_)\n",
    "print(\"Best score:\", grid_search.best_score_)"
   ]
  },
  {
   "cell_type": "markdown",
   "id": "a71b5274",
   "metadata": {},
   "source": [
    "___"
   ]
  },
  {
   "cell_type": "markdown",
   "id": "2ef05eaa",
   "metadata": {},
   "source": [
    "# 5.0 Test Data Prediction\n",
    "\n",
    "Once our model is trained and evaluated, we can use it to predict the language of the test data. This will allow us to assess the model's performance on unseen text samples and generate predictions for the competition submission."
   ]
  },
  {
   "cell_type": "code",
   "execution_count": 48,
   "id": "eb618fa5",
   "metadata": {},
   "outputs": [],
   "source": [
    "# Defining the the clean_text\n",
    "x_test = df_test_clean['clean_text']"
   ]
  },
  {
   "cell_type": "code",
   "execution_count": 49,
   "id": "4b6f1137",
   "metadata": {},
   "outputs": [],
   "source": [
    "# Transforming the test data\n",
    "\n",
    "x_test = vectorizer.transform(df_test_clean['clean_text'].values.astype(str))"
   ]
  },
  {
   "cell_type": "code",
   "execution_count": 53,
   "id": "d9d64240",
   "metadata": {},
   "outputs": [],
   "source": [
    "# Predict values using the best model\n",
    "\n",
    "pred = nb_classifier.predict(x_test)"
   ]
  },
  {
   "cell_type": "code",
   "execution_count": 54,
   "id": "951b0ad3",
   "metadata": {},
   "outputs": [
    {
     "data": {
      "text/plain": [
       "array([9, 9, 1, ..., 1, 9, 4])"
      ]
     },
     "execution_count": 54,
     "metadata": {},
     "output_type": "execute_result"
    }
   ],
   "source": [
    "y"
   ]
  },
  {
   "cell_type": "code",
   "execution_count": 55,
   "id": "cb8fa51a",
   "metadata": {},
   "outputs": [],
   "source": [
    "# Transform the prediction back to text\n",
    "\n",
    "pred_text = le.inverse_transform(pred)"
   ]
  },
  {
   "cell_type": "code",
   "execution_count": 56,
   "id": "e4e2720b",
   "metadata": {},
   "outputs": [
    {
     "data": {
      "text/html": [
       "<div>\n",
       "<style scoped>\n",
       "    .dataframe tbody tr th:only-of-type {\n",
       "        vertical-align: middle;\n",
       "    }\n",
       "\n",
       "    .dataframe tbody tr th {\n",
       "        vertical-align: top;\n",
       "    }\n",
       "\n",
       "    .dataframe thead th {\n",
       "        text-align: right;\n",
       "    }\n",
       "</style>\n",
       "<table border=\"1\" class=\"dataframe\">\n",
       "  <thead>\n",
       "    <tr style=\"text-align: right;\">\n",
       "      <th></th>\n",
       "      <th>lang_id</th>\n",
       "    </tr>\n",
       "  </thead>\n",
       "  <tbody>\n",
       "    <tr>\n",
       "      <th>0</th>\n",
       "      <td>tsn</td>\n",
       "    </tr>\n",
       "    <tr>\n",
       "      <th>1</th>\n",
       "      <td>nbl</td>\n",
       "    </tr>\n",
       "    <tr>\n",
       "      <th>2</th>\n",
       "      <td>ven</td>\n",
       "    </tr>\n",
       "    <tr>\n",
       "      <th>3</th>\n",
       "      <td>ssw</td>\n",
       "    </tr>\n",
       "    <tr>\n",
       "      <th>4</th>\n",
       "      <td>afr</td>\n",
       "    </tr>\n",
       "    <tr>\n",
       "      <th>...</th>\n",
       "      <td>...</td>\n",
       "    </tr>\n",
       "    <tr>\n",
       "      <th>5677</th>\n",
       "      <td>eng</td>\n",
       "    </tr>\n",
       "    <tr>\n",
       "      <th>5678</th>\n",
       "      <td>nso</td>\n",
       "    </tr>\n",
       "    <tr>\n",
       "      <th>5679</th>\n",
       "      <td>sot</td>\n",
       "    </tr>\n",
       "    <tr>\n",
       "      <th>5680</th>\n",
       "      <td>sot</td>\n",
       "    </tr>\n",
       "    <tr>\n",
       "      <th>5681</th>\n",
       "      <td>xho</td>\n",
       "    </tr>\n",
       "  </tbody>\n",
       "</table>\n",
       "<p>5682 rows × 1 columns</p>\n",
       "</div>"
      ],
      "text/plain": [
       "     lang_id\n",
       "0        tsn\n",
       "1        nbl\n",
       "2        ven\n",
       "3        ssw\n",
       "4        afr\n",
       "...      ...\n",
       "5677     eng\n",
       "5678     nso\n",
       "5679     sot\n",
       "5680     sot\n",
       "5681     xho\n",
       "\n",
       "[5682 rows x 1 columns]"
      ]
     },
     "execution_count": 56,
     "metadata": {},
     "output_type": "execute_result"
    }
   ],
   "source": [
    "#Creating a dataframe of the predictions\n",
    "\n",
    "DAF=pd.DataFrame(pred_text,columns=['lang_id'])\n",
    "DAF"
   ]
  },
  {
   "cell_type": "code",
   "execution_count": 57,
   "id": "03b4f4d9",
   "metadata": {},
   "outputs": [
    {
     "data": {
      "text/html": [
       "<div>\n",
       "<style scoped>\n",
       "    .dataframe tbody tr th:only-of-type {\n",
       "        vertical-align: middle;\n",
       "    }\n",
       "\n",
       "    .dataframe tbody tr th {\n",
       "        vertical-align: top;\n",
       "    }\n",
       "\n",
       "    .dataframe thead th {\n",
       "        text-align: right;\n",
       "    }\n",
       "</style>\n",
       "<table border=\"1\" class=\"dataframe\">\n",
       "  <thead>\n",
       "    <tr style=\"text-align: right;\">\n",
       "      <th></th>\n",
       "      <th>index</th>\n",
       "      <th>lang_id</th>\n",
       "    </tr>\n",
       "  </thead>\n",
       "  <tbody>\n",
       "    <tr>\n",
       "      <th>0</th>\n",
       "      <td>1</td>\n",
       "      <td>tsn</td>\n",
       "    </tr>\n",
       "    <tr>\n",
       "      <th>1</th>\n",
       "      <td>2</td>\n",
       "      <td>nbl</td>\n",
       "    </tr>\n",
       "    <tr>\n",
       "      <th>2</th>\n",
       "      <td>3</td>\n",
       "      <td>ven</td>\n",
       "    </tr>\n",
       "    <tr>\n",
       "      <th>3</th>\n",
       "      <td>4</td>\n",
       "      <td>ssw</td>\n",
       "    </tr>\n",
       "    <tr>\n",
       "      <th>4</th>\n",
       "      <td>5</td>\n",
       "      <td>afr</td>\n",
       "    </tr>\n",
       "    <tr>\n",
       "      <th>...</th>\n",
       "      <td>...</td>\n",
       "      <td>...</td>\n",
       "    </tr>\n",
       "    <tr>\n",
       "      <th>5677</th>\n",
       "      <td>5678</td>\n",
       "      <td>eng</td>\n",
       "    </tr>\n",
       "    <tr>\n",
       "      <th>5678</th>\n",
       "      <td>5679</td>\n",
       "      <td>nso</td>\n",
       "    </tr>\n",
       "    <tr>\n",
       "      <th>5679</th>\n",
       "      <td>5680</td>\n",
       "      <td>sot</td>\n",
       "    </tr>\n",
       "    <tr>\n",
       "      <th>5680</th>\n",
       "      <td>5681</td>\n",
       "      <td>sot</td>\n",
       "    </tr>\n",
       "    <tr>\n",
       "      <th>5681</th>\n",
       "      <td>5682</td>\n",
       "      <td>xho</td>\n",
       "    </tr>\n",
       "  </tbody>\n",
       "</table>\n",
       "<p>5682 rows × 2 columns</p>\n",
       "</div>"
      ],
      "text/plain": [
       "      index lang_id\n",
       "0         1     tsn\n",
       "1         2     nbl\n",
       "2         3     ven\n",
       "3         4     ssw\n",
       "4         5     afr\n",
       "...     ...     ...\n",
       "5677   5678     eng\n",
       "5678   5679     nso\n",
       "5679   5680     sot\n",
       "5680   5681     sot\n",
       "5681   5682     xho\n",
       "\n",
       "[5682 rows x 2 columns]"
      ]
     },
     "execution_count": 57,
     "metadata": {},
     "output_type": "execute_result"
    }
   ],
   "source": [
    "# Joining the predicted columns with index column from the test dataset\n",
    "output = pd.DataFrame({\"index\":df_test_clean[\"index\"]})\n",
    "submission = output.join(DAF)\n",
    "submission"
   ]
  },
  {
   "cell_type": "code",
   "execution_count": 58,
   "id": "b04be9be",
   "metadata": {},
   "outputs": [],
   "source": [
    "#Create submission CSV\n",
    "submission.to_csv(\"submission_noDup_ngram_nb_gridsearch.csv\",index=False)"
   ]
  },
  {
   "cell_type": "markdown",
   "id": "531d4ca1",
   "metadata": {},
   "source": [
    "### Saving the Trained Model"
   ]
  },
  {
   "cell_type": "code",
   "execution_count": 60,
   "id": "43a1e541",
   "metadata": {},
   "outputs": [],
   "source": [
    "import pickle\n",
    "\n",
    "model_save_path = \"C:/Users/pc/Desktop/Classification Exam/practical_Classification_Exam/trained-nb-model.pkl\"\n",
    "with open(model_save_path,'wb') as file:\n",
    "    pickle.dump(nb_classifier,file)"
   ]
  },
  {
   "cell_type": "markdown",
   "id": "ffeda0a9",
   "metadata": {},
   "source": [
    "___"
   ]
  },
  {
   "cell_type": "markdown",
   "id": "7ef94b61",
   "metadata": {},
   "source": [
    "# 6.0 Conclusion\n",
    "\n",
    "In this project, we developed a language identification model capable of determining the language of text samples from South Africa's official languages. By leveraging machine learning techniques and NLP preprocessing, promising results in accurately identifying the language of the text was achieved.\n",
    "\n",
    "Through the exploratory data analysis (EDA) phase, we gained insights into the distribution of languages in the dataset. We observed the rich linguistic diversity of South Africa, with the presence of all 11 official languages. This highlights the importance of developing language identification systems to facilitate effective communication and understanding among the multilingual population.\n",
    "\n",
    "Our model's performance was evaluated using the Mean F1-Score, a widely used metric in information retrieval tasks. \n",
    "\n",
    "This project demonstrates the potential of NLP techniques and machine learning algorithms in solving language identification tasks. The developed model can be utilized in various applications, including \n",
    "- content categorization\n",
    "- multilingual analytics, and \n",
    "- improving user experience in language-based systems and devices.\n",
    "\n",
    "### Further Experiment\n",
    "For want of time, this notebook doesn't contain my experiment with out language detection models like spacy, langdect. The experiment will be carried out and improvements will be noted down.\n",
    "\n",
    "\n",
    "### References\n",
    "- [Mean F1-Score](https://www.kaggle.com/wiki/MeanFScore)\n",
    "- Build Language Detection Model With NLP | Natural Language Processing Applications | Great Learning - https://www.youtube.com/watch?v=YB7XXDXIusg\n",
    "- NLP tools for language detection - https://www.youtube.com/watch?v=JJdJePbmCyw\n",
    "- 4 NLP Libraries for Automatic Language Identification of Text Data In Python - https://towardsdatascience.com/4-nlp-libraries-for-automatic-language-identification-of-text-data-in-python-cbc6bf664774"
   ]
  },
  {
   "cell_type": "markdown",
   "id": "f5243ed7",
   "metadata": {},
   "source": [
    "          Student Name - Chidinma Madukife || Facilitator - Rakisha R. || Cohort- 2301ACDS\n",
    "___"
   ]
  },
  {
   "cell_type": "markdown",
   "id": "f00bea7a",
   "metadata": {},
   "source": [
    "                                               _______\n",
    "                                                *END*"
   ]
  }
 ],
 "metadata": {
  "kernelspec": {
   "display_name": "Python 3 (ipykernel)",
   "language": "python",
   "name": "python3"
  },
  "language_info": {
   "codemirror_mode": {
    "name": "ipython",
    "version": 3
   },
   "file_extension": ".py",
   "mimetype": "text/x-python",
   "name": "python",
   "nbconvert_exporter": "python",
   "pygments_lexer": "ipython3",
   "version": "3.10.11"
  }
 },
 "nbformat": 4,
 "nbformat_minor": 5
}
